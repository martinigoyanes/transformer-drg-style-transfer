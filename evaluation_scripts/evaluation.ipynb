{
 "cells": [
  {
   "attachments": {},
   "cell_type": "markdown",
   "metadata": {},
   "source": [
    "### For target style strenght we use FastText classifier trained ond the same train-dev-test split \n",
    "\t- https://fasttext.cc/docs/en/supervised-tutorial.html\n",
    "### For content preservation we measure BLEU score between generated and source sentences\n",
    "\t- https://machinelearningmastery.com/calculate-bleu-score-for-text-python/\n",
    "### To measure fluency we fine-tune GPT-2 on target sentences using same train-dev-test split. We use this model to measure perplexity of generated sentences\n",
    "\t- https://huggingface.co/spaces/evaluate-metric/perplexity\n",
    "### We also compute GLEU score between target reference, generated sentence and source sentence\n",
    "\t- https://github.com/cnap/gec-ranking/tree/master/scripts"
   ]
  },
  {
   "cell_type": "code",
   "execution_count": 24,
   "metadata": {},
   "outputs": [
    {
     "name": "stdout",
     "output_type": "stream",
     "text": [
      "<class 'pandas.core.frame.DataFrame'>\n",
      "RangeIndex: 177218 entries, 0 to 177217\n",
      "Data columns (total 2 columns):\n",
      " #   Column  Non-Null Count   Dtype \n",
      "---  ------  --------------   ----- \n",
      " 0   0       177218 non-null  object\n",
      " 1   1       5011 non-null    object\n",
      "dtypes: object(2)\n",
      "memory usage: 2.7+ MB\n",
      "None\n",
      "                                                   0    1\n",
      "0                             i was sadly mistaken .  NaN\n",
      "1  so on to the hoagies , the italian is general ...  NaN\n",
      "2       minimal meat and a ton of shredded lettuce .  NaN\n",
      "3  nothing really special & not worthy of the $ _...  NaN\n",
      "4      second , the steak hoagie , it is atrocious .  NaN\n",
      "<class 'pandas.core.frame.DataFrame'>\n",
      "RangeIndex: 266041 entries, 0 to 266040\n",
      "Data columns (total 3 columns):\n",
      " #   Column  Non-Null Count   Dtype \n",
      "---  ------  --------------   ----- \n",
      " 0   0       266041 non-null  object\n",
      " 1   1       695 non-null     object\n",
      " 2   2       41 non-null      object\n",
      "dtypes: object(3)\n",
      "memory usage: 6.1+ MB\n",
      "None\n",
      "                                                   0    1    2\n",
      "0                                   excellent food .  NaN  NaN\n",
      "1                          superb customer service .  NaN  NaN\n",
      "2  they also have daily specials and ice cream wh...  NaN  NaN\n",
      "3                      it 's a good toasted hoagie .  NaN  NaN\n",
      "4                            the staff is friendly .  NaN  NaN\n"
     ]
    }
   ],
   "source": [
    "import fasttext\n",
    "import pandas as pd\n",
    "\n",
    "data_paths = {\n",
    "\t'train': {\n",
    "\t\t'0': '/Midgard/home/martinig/transformer-drg-style-transfer/data/yelp/sentiment.train.0',\n",
    "\t\t'1': '/Midgard/home/martinig/transformer-drg-style-transfer/data/yelp/sentiment.train.1'\n",
    "\t}\n",
    "}\n",
    "def prepare_data_for_fasttext(data_paths):\n",
    "\tdataframes = {\n",
    "\t\t'train': {\n",
    "\t\t\t'0': pd.read_fwf(data_paths['train']['0'], header=None),\n",
    "\t\t\t'1': pd.read_fwf(data_paths['train']['1'], header=None),\n",
    "\t\t}\n",
    "\t}\n",
    "\tfor df in dataframes['train'].values():\n",
    "\t\tprint(df.info())\n",
    "\t\tprint(df.head())\n",
    "\t# for idx, (key, df) in enumerate(dataframes['train'].items()):\n",
    "\t# \tdataframes['train'][key].iloc[:, 1] = df.iloc[:, 1].apply(lambda x: f'__label__{key}')\n",
    "\t# for df in dataframes['train'].values():\n",
    "\t# \tprint(df.info())\n",
    "\t# \tprint(df.head())\n",
    "\n",
    "\treturn dataframes\n",
    "dfs = prepare_data_for_fasttext(data_paths=data_paths)\n",
    "\n"
   ]
  },
  {
   "cell_type": "code",
   "execution_count": null,
   "metadata": {},
   "outputs": [],
   "source": []
  }
 ],
 "metadata": {
  "kernelspec": {
   "display_name": "transformer-drg-style-transfer",
   "language": "python",
   "name": "python3"
  },
  "language_info": {
   "codemirror_mode": {
    "name": "ipython",
    "version": 3
   },
   "file_extension": ".py",
   "mimetype": "text/x-python",
   "name": "python",
   "nbconvert_exporter": "python",
   "pygments_lexer": "ipython3",
   "version": "3.8.16"
  },
  "orig_nbformat": 4,
  "vscode": {
   "interpreter": {
    "hash": "b63ce1d000891a0fb9c951dd76a07353507f911ba7a4b1556ea23d2319c94f83"
   }
  }
 },
 "nbformat": 4,
 "nbformat_minor": 2
}
