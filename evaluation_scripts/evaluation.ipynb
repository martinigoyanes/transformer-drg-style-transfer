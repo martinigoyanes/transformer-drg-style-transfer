{
 "cells": [
  {
   "attachments": {},
   "cell_type": "markdown",
   "metadata": {},
   "source": [
    "### For target style strenght we use FastText classifier trained ond the same train-dev-test split \n",
    "\t- https://fasttext.cc/docs/en/supervised-tutorial.html\n",
    "### For content preservation we measure BLEU score between generated and source sentences\n",
    "\t- https://machinelearningmastery.com/calculate-bleu-score-for-text-python/\n",
    "### To measure fluency we fine-tune GPT-2 on target sentences using same train-dev-test split. We use this model to measure perplexity of generated sentences\n",
    "\t- https://huggingface.co/spaces/evaluate-metric/perplexity\n",
    "### We also compute GLEU score between target reference, generated sentence and source sentence\n",
    "\t- https://github.com/cnap/gec-ranking/tree/master/scripts"
   ]
  },
  {
   "cell_type": "code",
   "execution_count": 3,
   "metadata": {},
   "outputs": [],
   "source": [
    "import fasttext"
   ]
  },
  {
   "cell_type": "code",
   "execution_count": null,
   "metadata": {},
   "outputs": [],
   "source": []
  }
 ],
 "metadata": {
  "kernelspec": {
   "display_name": "transformer-drg-style-transfer",
   "language": "python",
   "name": "python3"
  },
  "language_info": {
   "codemirror_mode": {
    "name": "ipython",
    "version": 3
   },
   "file_extension": ".py",
   "mimetype": "text/x-python",
   "name": "python",
   "nbconvert_exporter": "python",
   "pygments_lexer": "ipython3",
   "version": "3.8.16"
  },
  "orig_nbformat": 4,
  "vscode": {
   "interpreter": {
    "hash": "e41c865dd6592933d102f4ab2c8dea165e9a049e4cf9cd561c3bbebc460b1d18"
   }
  }
 },
 "nbformat": 4,
 "nbformat_minor": 2
}
