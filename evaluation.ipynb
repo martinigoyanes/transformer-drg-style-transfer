{
 "cells": [
  {
   "attachments": {},
   "cell_type": "markdown",
   "metadata": {},
   "source": [
    "### For target style strenght we use FastText classifier trained ond the same train-dev-test split \n",
    "\t- https://fasttext.cc/docs/en/supervised-tutorial.html\n",
    "### For content preservation we measure BLEU score between generated and source sentences\n",
    "\t- https://machinelearningmastery.com/calculate-bleu-score-for-text-python/\n",
    "### To measure fluency we fine-tune GPT-2 on target sentences using same train-dev-test split. We use this model to measure perplexity of generated sentences\n",
    "\t- https://huggingface.co/spaces/evaluate-metric/perplexity\n",
    "### We also compute GLEU score between target reference, generated sentence and source sentence\n",
    "\t- https://github.com/cnap/gec-ranking/tree/master/scripts"
   ]
  },
  {
   "cell_type": "code",
   "execution_count": 3,
   "metadata": {},
   "outputs": [],
   "source": [
    "import fasttext\n",
    "import pandas as pd\n",
    "import os\n",
    "\n",
    "BASE_PATH = '/Midgard/home/martinig/transformer-drg-style-transfer/data/yelp'\n",
    "data_paths = {\n",
    "\t'train': {\n",
    "\t\t'0': f'{BASE_PATH}/sentiment.train.0',\n",
    "\t\t'1': f'{BASE_PATH}/sentiment.train.1'\n",
    "\t},\n",
    "\t'dev': {\n",
    "\t\t'0': f'{BASE_PATH}/sentiment.dev.0',\n",
    "\t\t'1': f'{BASE_PATH}/sentiment.dev.1'\n",
    "\t},\n",
    "\t'test': {\n",
    "\t\t'0': f'{BASE_PATH}/sentiment.test.0',\n",
    "\t\t'1': f'{BASE_PATH}/sentiment.test.1'\n",
    "\t}\n",
    "}"
   ]
  },
  {
   "cell_type": "code",
   "execution_count": 6,
   "metadata": {},
   "outputs": [],
   "source": [
    "def prepare_data_for_fasttext(data_paths):\n",
    "\tdef read_file(file_path):\n",
    "\t\twith open(file_path) as fp:\n",
    "\t\t\tdata = fp.read().splitlines()\n",
    "\t\treturn data\n",
    "\n",
    "\tdef label_and_concat(dfs):\n",
    "\t\tdfs['0']['label'] = '__label__0'\n",
    "\t\tdfs['1']['label'] = '__label__1'\n",
    "\t\tdfs['0'] = dfs['0'][['label', 'text']]\n",
    "\t\tdfs['1'] = dfs['1'][['label', 'text']]\n",
    "\t\treturn pd.concat(dfs.values())\n",
    "\n",
    "\tdfs = {\n",
    "\t\t'train': {\n",
    "\t\t\t'0': pd.DataFrame(read_file(data_paths['train']['0']), columns=['text']),\n",
    "\t\t\t'1': pd.DataFrame(read_file(data_paths['train']['1']), columns=['text'])\n",
    "\t\t},\n",
    "\t\t'dev': {\n",
    "\t\t\t'0': pd.DataFrame(read_file(data_paths['dev']['0']), columns=['text']),\n",
    "\t\t\t'1': pd.DataFrame(read_file(data_paths['dev']['1']), columns=['text'])\n",
    "\t\t},\n",
    "\t\t'test': {\n",
    "\t\t\t'0': pd.DataFrame(read_file(data_paths['test']['0']), columns=['text']),\n",
    "\t\t\t'1': pd.DataFrame(read_file(data_paths['test']['1']), columns=['text'])\n",
    "\t\t},\n",
    "\t}\n",
    "\n",
    "\tdfs['train'] = label_and_concat(dfs['train'])\n",
    "\tdfs['dev'] = label_and_concat(dfs['dev'])\n",
    "\tdfs['test'] = label_and_concat(dfs['test'])\n",
    "\n",
    "\treturn dfs"
   ]
  },
  {
   "cell_type": "code",
   "execution_count": 13,
   "metadata": {},
   "outputs": [],
   "source": [
    "def save_data_for_fasttext(dfs):\n",
    "\tos.makedirs(os.path.join(BASE_PATH, 'fasttext'), exist_ok=True)\n",
    "\tfor phase, df in dfs.items():\n",
    "\t\tdf.to_csv(f'{BASE_PATH}/fasttext/{phase}.txt', index=False, sep='\\t', header=None)"
   ]
  },
  {
   "cell_type": "code",
   "execution_count": 14,
   "metadata": {},
   "outputs": [],
   "source": [
    "dfs = prepare_data_for_fasttext(data_paths=data_paths)\n",
    "save_data_for_fasttext(dfs)"
   ]
  },
  {
   "cell_type": "code",
   "execution_count": 15,
   "metadata": {},
   "outputs": [
    {
     "name": "stderr",
     "output_type": "stream",
     "text": [
      "Read 4M words\n",
      "Number of words:  9601\n",
      "Number of labels: 2\n",
      "Progress:  88.6% words/sec/thread: 1093642 lr:  0.011437 avg.loss:  0.125075 ETA:   0h 0m 0s"
     ]
    },
    {
     "name": "stdout",
     "output_type": "stream",
     "text": [
      "Precision: 0.964\n"
     ]
    },
    {
     "name": "stderr",
     "output_type": "stream",
     "text": [
      "Progress: 100.0% words/sec/thread: 1070172 lr:  0.000000 avg.loss:  0.123633 ETA:   0h 0m 0s\n"
     ]
    }
   ],
   "source": [
    "# Train, test\n",
    "model = fasttext.train_supervised(f'{BASE_PATH}/fasttext/train.txt')\n",
    "n_samples, precision, recall = model.test(f'{BASE_PATH}/fasttext/test.txt')\n",
    "print(f'Precision: {precision}')"
   ]
  },
  {
   "cell_type": "code",
   "execution_count": 3,
   "metadata": {},
   "outputs": [
    {
     "name": "stderr",
     "output_type": "stream",
     "text": [
      "ftfy or spacy is not installed using BERT BasicTokenizer instead of SpaCy & ftfy.\n"
     ]
    },
    {
     "name": "stdout",
     "output_type": "stream",
     "text": [
      "['<CON_START>', '<END>', '<NEG>', '<POS>', '<START>']\n"
     ]
    },
    {
     "data": {
      "text/plain": [
       "OpenAIGPTLMHeadModel(\n",
       "  (transformer): OpenAIGPTModel(\n",
       "    (tokens_embed): Embedding(40483, 768)\n",
       "    (positions_embed): Embedding(512, 768)\n",
       "    (drop): Dropout(p=0.1, inplace=False)\n",
       "    (h): ModuleList(\n",
       "      (0): Block(\n",
       "        (attn): Attention(\n",
       "          (c_attn): Conv1D()\n",
       "          (c_proj): Conv1D()\n",
       "          (attn_dropout): Dropout(p=0.1, inplace=False)\n",
       "          (resid_dropout): Dropout(p=0.1, inplace=False)\n",
       "        )\n",
       "        (ln_1): BertLayerNorm()\n",
       "        (mlp): MLP(\n",
       "          (c_fc): Conv1D()\n",
       "          (c_proj): Conv1D()\n",
       "          (dropout): Dropout(p=0.1, inplace=False)\n",
       "        )\n",
       "        (ln_2): BertLayerNorm()\n",
       "      )\n",
       "      (1): Block(\n",
       "        (attn): Attention(\n",
       "          (c_attn): Conv1D()\n",
       "          (c_proj): Conv1D()\n",
       "          (attn_dropout): Dropout(p=0.1, inplace=False)\n",
       "          (resid_dropout): Dropout(p=0.1, inplace=False)\n",
       "        )\n",
       "        (ln_1): BertLayerNorm()\n",
       "        (mlp): MLP(\n",
       "          (c_fc): Conv1D()\n",
       "          (c_proj): Conv1D()\n",
       "          (dropout): Dropout(p=0.1, inplace=False)\n",
       "        )\n",
       "        (ln_2): BertLayerNorm()\n",
       "      )\n",
       "      (2): Block(\n",
       "        (attn): Attention(\n",
       "          (c_attn): Conv1D()\n",
       "          (c_proj): Conv1D()\n",
       "          (attn_dropout): Dropout(p=0.1, inplace=False)\n",
       "          (resid_dropout): Dropout(p=0.1, inplace=False)\n",
       "        )\n",
       "        (ln_1): BertLayerNorm()\n",
       "        (mlp): MLP(\n",
       "          (c_fc): Conv1D()\n",
       "          (c_proj): Conv1D()\n",
       "          (dropout): Dropout(p=0.1, inplace=False)\n",
       "        )\n",
       "        (ln_2): BertLayerNorm()\n",
       "      )\n",
       "      (3): Block(\n",
       "        (attn): Attention(\n",
       "          (c_attn): Conv1D()\n",
       "          (c_proj): Conv1D()\n",
       "          (attn_dropout): Dropout(p=0.1, inplace=False)\n",
       "          (resid_dropout): Dropout(p=0.1, inplace=False)\n",
       "        )\n",
       "        (ln_1): BertLayerNorm()\n",
       "        (mlp): MLP(\n",
       "          (c_fc): Conv1D()\n",
       "          (c_proj): Conv1D()\n",
       "          (dropout): Dropout(p=0.1, inplace=False)\n",
       "        )\n",
       "        (ln_2): BertLayerNorm()\n",
       "      )\n",
       "      (4): Block(\n",
       "        (attn): Attention(\n",
       "          (c_attn): Conv1D()\n",
       "          (c_proj): Conv1D()\n",
       "          (attn_dropout): Dropout(p=0.1, inplace=False)\n",
       "          (resid_dropout): Dropout(p=0.1, inplace=False)\n",
       "        )\n",
       "        (ln_1): BertLayerNorm()\n",
       "        (mlp): MLP(\n",
       "          (c_fc): Conv1D()\n",
       "          (c_proj): Conv1D()\n",
       "          (dropout): Dropout(p=0.1, inplace=False)\n",
       "        )\n",
       "        (ln_2): BertLayerNorm()\n",
       "      )\n",
       "      (5): Block(\n",
       "        (attn): Attention(\n",
       "          (c_attn): Conv1D()\n",
       "          (c_proj): Conv1D()\n",
       "          (attn_dropout): Dropout(p=0.1, inplace=False)\n",
       "          (resid_dropout): Dropout(p=0.1, inplace=False)\n",
       "        )\n",
       "        (ln_1): BertLayerNorm()\n",
       "        (mlp): MLP(\n",
       "          (c_fc): Conv1D()\n",
       "          (c_proj): Conv1D()\n",
       "          (dropout): Dropout(p=0.1, inplace=False)\n",
       "        )\n",
       "        (ln_2): BertLayerNorm()\n",
       "      )\n",
       "      (6): Block(\n",
       "        (attn): Attention(\n",
       "          (c_attn): Conv1D()\n",
       "          (c_proj): Conv1D()\n",
       "          (attn_dropout): Dropout(p=0.1, inplace=False)\n",
       "          (resid_dropout): Dropout(p=0.1, inplace=False)\n",
       "        )\n",
       "        (ln_1): BertLayerNorm()\n",
       "        (mlp): MLP(\n",
       "          (c_fc): Conv1D()\n",
       "          (c_proj): Conv1D()\n",
       "          (dropout): Dropout(p=0.1, inplace=False)\n",
       "        )\n",
       "        (ln_2): BertLayerNorm()\n",
       "      )\n",
       "      (7): Block(\n",
       "        (attn): Attention(\n",
       "          (c_attn): Conv1D()\n",
       "          (c_proj): Conv1D()\n",
       "          (attn_dropout): Dropout(p=0.1, inplace=False)\n",
       "          (resid_dropout): Dropout(p=0.1, inplace=False)\n",
       "        )\n",
       "        (ln_1): BertLayerNorm()\n",
       "        (mlp): MLP(\n",
       "          (c_fc): Conv1D()\n",
       "          (c_proj): Conv1D()\n",
       "          (dropout): Dropout(p=0.1, inplace=False)\n",
       "        )\n",
       "        (ln_2): BertLayerNorm()\n",
       "      )\n",
       "      (8): Block(\n",
       "        (attn): Attention(\n",
       "          (c_attn): Conv1D()\n",
       "          (c_proj): Conv1D()\n",
       "          (attn_dropout): Dropout(p=0.1, inplace=False)\n",
       "          (resid_dropout): Dropout(p=0.1, inplace=False)\n",
       "        )\n",
       "        (ln_1): BertLayerNorm()\n",
       "        (mlp): MLP(\n",
       "          (c_fc): Conv1D()\n",
       "          (c_proj): Conv1D()\n",
       "          (dropout): Dropout(p=0.1, inplace=False)\n",
       "        )\n",
       "        (ln_2): BertLayerNorm()\n",
       "      )\n",
       "      (9): Block(\n",
       "        (attn): Attention(\n",
       "          (c_attn): Conv1D()\n",
       "          (c_proj): Conv1D()\n",
       "          (attn_dropout): Dropout(p=0.1, inplace=False)\n",
       "          (resid_dropout): Dropout(p=0.1, inplace=False)\n",
       "        )\n",
       "        (ln_1): BertLayerNorm()\n",
       "        (mlp): MLP(\n",
       "          (c_fc): Conv1D()\n",
       "          (c_proj): Conv1D()\n",
       "          (dropout): Dropout(p=0.1, inplace=False)\n",
       "        )\n",
       "        (ln_2): BertLayerNorm()\n",
       "      )\n",
       "      (10): Block(\n",
       "        (attn): Attention(\n",
       "          (c_attn): Conv1D()\n",
       "          (c_proj): Conv1D()\n",
       "          (attn_dropout): Dropout(p=0.1, inplace=False)\n",
       "          (resid_dropout): Dropout(p=0.1, inplace=False)\n",
       "        )\n",
       "        (ln_1): BertLayerNorm()\n",
       "        (mlp): MLP(\n",
       "          (c_fc): Conv1D()\n",
       "          (c_proj): Conv1D()\n",
       "          (dropout): Dropout(p=0.1, inplace=False)\n",
       "        )\n",
       "        (ln_2): BertLayerNorm()\n",
       "      )\n",
       "      (11): Block(\n",
       "        (attn): Attention(\n",
       "          (c_attn): Conv1D()\n",
       "          (c_proj): Conv1D()\n",
       "          (attn_dropout): Dropout(p=0.1, inplace=False)\n",
       "          (resid_dropout): Dropout(p=0.1, inplace=False)\n",
       "        )\n",
       "        (ln_1): BertLayerNorm()\n",
       "        (mlp): MLP(\n",
       "          (c_fc): Conv1D()\n",
       "          (c_proj): Conv1D()\n",
       "          (dropout): Dropout(p=0.1, inplace=False)\n",
       "        )\n",
       "        (ln_2): BertLayerNorm()\n",
       "      )\n",
       "    )\n",
       "  )\n",
       "  (lm_head): OpenAIGPTLMHead(\n",
       "    (decoder): Linear(in_features=768, out_features=40483, bias=False)\n",
       "  )\n",
       ")"
      ]
     },
     "execution_count": 3,
     "metadata": {},
     "output_type": "execute_result"
    }
   ],
   "source": [
    "# Evaluate model output\n",
    "import torch\n",
    "from pytorch_pretrained_bert import OpenAIGPTLMHeadModel, OpenAIGPTTokenizer, OpenAIGPTConfig\n",
    "\n",
    "# https://huggingface.co/docs/transformers/v4.26.1/en/internal/tokenization_utils#transformers.PreTrainedTokenizerBase.from_pretrained\n",
    "# https://huggingface.co/docs/transformers/main_classes/model#transformers.PreTrainedModel.from_pretrained\n",
    "\n",
    "model_path = 'models/delete_and_generate'\n",
    "special_tokens = ['<POS>', '<NEG>','<CON_START>','<START>','<END>'] # Set the special tokens\n",
    "tokenizer = OpenAIGPTTokenizer.from_pretrained(model_path)\n",
    "config = OpenAIGPTConfig.from_json_file(f\"{model_path}/config.json\")\n",
    "model = OpenAIGPTLMHeadModel.from_pretrained(model_path)\n",
    "device = torch.device(\"cuda\" if torch.cuda.is_available() else \"cpu\")\n",
    "model.to(device)"
   ]
  },
  {
   "cell_type": "code",
   "execution_count": 21,
   "metadata": {},
   "outputs": [],
   "source": [
    "model.eval()\n",
    "beam_width=1\n",
    "input_text = \"<POS> <CON_START> it is not terrible , but it is very good . <START>\"\n",
    "\n",
    "sm = torch.nn.Softmax(dim=-1) # To calculate Softmax over the final layer Logits\n",
    "tokens = tokenizer.tokenize(input_text) # Tokenize the input text\n",
    "indexed_tokens = tokenizer.convert_tokens_to_ids(tokens) # Convert tokens to ids\n",
    "index_tokens = [indexed_tokens for i in range(beam_width)] # Replication of Input ids for all the beams\n",
    "torch_tensor = torch.tensor(index_tokens).to(device)\n",
    "\n",
    "count=0\n",
    "while count < model.config.n_positions:\n",
    "\twith torch.no_grad():\n",
    "\t\t# Calculate output probability distribution over the Vocab,\n",
    "\t\tpreds = sm(model(torch_tensor)) #  shape = [beam_bidth, len(input_sen)+1,Vocab_length]\n",
    "\t# Prepare the current_state by concating original input and decoded beam indexes\n",
    "\ttop_v, top_i = preds[:,-1,:].topk(beam_width) # Fatch top indexes and it's values\n",
    "\ttorch_tensor = torch.cat((torch_tensor, top_i), dim=1)\n",
    "\tif top_i[0].item() == tokenizer.special_tokens[\"<END>\"] or count > 20:\n",
    "\t\tbreak\n",
    "\tcount += 1"
   ]
  },
  {
   "cell_type": "code",
   "execution_count": 22,
   "metadata": {},
   "outputs": [
    {
     "data": {
      "text/plain": [
       "\"<POS> <CON_START> it is not terrible , but it is very good . <START> it is not terrible , but it is n ' t very good . <START> it is not terrible , but it\""
      ]
     },
     "execution_count": 22,
     "metadata": {},
     "output_type": "execute_result"
    }
   ],
   "source": [
    "tokenizer.decode(torch_tensor.tolist()[0])"
   ]
  },
  {
   "cell_type": "code",
   "execution_count": null,
   "metadata": {},
   "outputs": [],
   "source": []
  }
 ],
 "metadata": {
  "kernelspec": {
   "display_name": "transformer-drg-style-transfer",
   "language": "python",
   "name": "python3"
  },
  "language_info": {
   "codemirror_mode": {
    "name": "ipython",
    "version": 3
   },
   "file_extension": ".py",
   "mimetype": "text/x-python",
   "name": "python",
   "nbconvert_exporter": "python",
   "pygments_lexer": "ipython3",
   "version": "3.8.16"
  },
  "orig_nbformat": 4,
  "vscode": {
   "interpreter": {
    "hash": "b63ce1d000891a0fb9c951dd76a07353507f911ba7a4b1556ea23d2319c94f83"
   }
  }
 },
 "nbformat": 4,
 "nbformat_minor": 2
}
