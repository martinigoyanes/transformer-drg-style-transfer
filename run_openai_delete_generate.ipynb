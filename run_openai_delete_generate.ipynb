{
 "cells": [
  {
   "cell_type": "code",
   "execution_count": null,
   "id": "24efcebb",
   "metadata": {},
   "outputs": [],
   "source": [
    "!python openai_gpt_delete_and_generate.py \\\n",
    "--model_name openai-gpt \\\n",
    "--do_train \\\n",
    "--do_eval \\\n",
    "--train_dataset \"./data/yelp/processed_files_with_bert_with_best_head/sentiment.train.1\" \\\n",
    "--eval_dataset \"./data/yelp/processed_files_with_bert_with_best_head/sentiment.dev.1\" \\\n",
    "--train_batch_size 32 \\\n",
    "--eval_batch_size 32 \\\n",
    "--max_seq_length 85 \\\n",
    "--output_dir \"./openai_delete_generate_models\" "
   ]
  },
  {
   "cell_type": "code",
   "execution_count": null,
   "id": "81c8a9f4",
   "metadata": {},
   "outputs": [],
   "source": []
  }
 ],
 "metadata": {
  "kernelspec": {
   "display_name": "transformer-drg-style-transfer",
   "language": "python",
   "name": "python3"
  },
  "language_info": {
   "codemirror_mode": {
    "name": "ipython",
    "version": 3
   },
   "file_extension": ".py",
   "mimetype": "text/x-python",
   "name": "python",
   "nbconvert_exporter": "python",
   "pygments_lexer": "ipython3",
   "version": "3.8.16 (default, Jan 17 2023, 23:13:24) \n[GCC 11.2.0]"
  },
  "vscode": {
   "interpreter": {
    "hash": "e41c865dd6592933d102f4ab2c8dea165e9a049e4cf9cd561c3bbebc460b1d18"
   }
  }
 },
 "nbformat": 4,
 "nbformat_minor": 5
}
