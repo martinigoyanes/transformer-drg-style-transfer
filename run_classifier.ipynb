{
 "cells": [
  {
   "cell_type": "code",
   "execution_count": null,
   "id": "8dbffc0c",
   "metadata": {},
   "outputs": [],
   "source": [
    "!pip install -r requirements.txt"
   ]
  },
  {
   "cell_type": "code",
   "execution_count": null,
   "id": "5cde111c",
   "metadata": {},
   "outputs": [],
   "source": [
    "!python run_classifier.py \\\n",
    "--data_dir=\"data/yelp/bert_classifier_training\" \\\n",
    "--bert_model=bert-base-uncased \\\n",
    "--task_name=yelp \\\n",
    "--output_dir=\"bert_models\" \\\n",
    "--max_seq_length=70 \\\n",
    "--do_train \\\n",
    "--do_lower_case \\\n",
    "--train_batch_size=32 \\\n",
    "--num_train_epochs=1 "
   ]
  },
  {
   "cell_type": "code",
   "execution_count": null,
   "id": "21f9c751",
   "metadata": {},
   "outputs": [],
   "source": []
  }
 ],
 "metadata": {
  "kernelspec": {
   "display_name": "Python 3 (ipykernel)",
   "language": "python",
   "name": "python3"
  },
  "language_info": {
   "codemirror_mode": {
    "name": "ipython",
    "version": 3
   },
   "file_extension": ".py",
   "mimetype": "text/x-python",
   "name": "python",
   "nbconvert_exporter": "python",
   "pygments_lexer": "ipython3",
   "version": "3.8.12"
  }
 },
 "nbformat": 4,
 "nbformat_minor": 5
}
